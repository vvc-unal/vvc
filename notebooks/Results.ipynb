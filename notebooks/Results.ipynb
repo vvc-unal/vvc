{
 "cells": [
  {
   "cell_type": "code",
   "execution_count": 34,
   "metadata": {},
   "outputs": [],
   "source": [
    "import json\n",
    "import os\n",
    "import sys\n",
    "\n",
    "from IPython.display import display\n",
    "import matplotlib.pyplot as plt\n",
    "import numpy as np\n",
    "import pandas as pd\n",
    "from sklearn.metrics import precision_score\n",
    "\n",
    "\n",
    "module_path = os.path.abspath(os.path.join('..'))\n",
    "if module_path not in sys.path:\n",
    "    sys.path.append(module_path)\n",
    "\n",
    "from vvc import config"
   ]
  },
  {
   "cell_type": "code",
   "execution_count": 35,
   "metadata": {},
   "outputs": [
    {
     "data": {
      "text/plain": [
       "'/home/juan/workspace/Maestria/Videos/yolov3/MOV_0861.mp4.json'"
      ]
     },
     "execution_count": 35,
     "metadata": {},
     "output_type": "execute_result"
    }
   ],
   "source": [
    "dataset_folder = config.video_folder\n",
    "\n",
    "experiment_folder = os.path.join(config.base_folder, 'Videos', 'yolov3')\n",
    "\n",
    "annotations_file = 'MOV_0861.mp4.json'\n",
    "\n",
    "test_file = os.path.join(dataset_folder, annotations_file)\n",
    "experiment_file = os.path.join(experiment_folder, annotations_file)\n",
    "\n",
    "experiment_file"
   ]
  },
  {
   "cell_type": "code",
   "execution_count": 36,
   "metadata": {},
   "outputs": [
    {
     "data": {
      "text/html": [
       "<div>\n",
       "<style scoped>\n",
       "    .dataframe tbody tr th:only-of-type {\n",
       "        vertical-align: middle;\n",
       "    }\n",
       "\n",
       "    .dataframe tbody tr th {\n",
       "        vertical-align: top;\n",
       "    }\n",
       "\n",
       "    .dataframe thead th {\n",
       "        text-align: right;\n",
       "    }\n",
       "</style>\n",
       "<table border=\"1\" class=\"dataframe\">\n",
       "  <thead>\n",
       "    <tr style=\"text-align: right;\">\n",
       "      <th></th>\n",
       "      <th>motorbike</th>\n",
       "      <th>car</th>\n",
       "    </tr>\n",
       "  </thead>\n",
       "  <tbody>\n",
       "    <tr>\n",
       "      <th>5</th>\n",
       "      <td>3.0</td>\n",
       "      <td>3</td>\n",
       "    </tr>\n",
       "    <tr>\n",
       "      <th>6</th>\n",
       "      <td>1.0</td>\n",
       "      <td>2</td>\n",
       "    </tr>\n",
       "    <tr>\n",
       "      <th>7</th>\n",
       "      <td>3.0</td>\n",
       "      <td>3</td>\n",
       "    </tr>\n",
       "    <tr>\n",
       "      <th>8</th>\n",
       "      <td>3.0</td>\n",
       "      <td>3</td>\n",
       "    </tr>\n",
       "    <tr>\n",
       "      <th>9</th>\n",
       "      <td>3.0</td>\n",
       "      <td>3</td>\n",
       "    </tr>\n",
       "  </tbody>\n",
       "</table>\n",
       "</div>"
      ],
      "text/plain": [
       "   motorbike  car\n",
       "5        3.0    3\n",
       "6        1.0    2\n",
       "7        3.0    3\n",
       "8        3.0    3\n",
       "9        3.0    3"
      ]
     },
     "execution_count": 36,
     "metadata": {},
     "output_type": "execute_result"
    }
   ],
   "source": [
    "def vott_to_dataframe(json_file):\n",
    "    test_annotations = {}\n",
    "\n",
    "    df = pd.DataFrame()\n",
    "\n",
    "    with open(json_file) as json_data:\n",
    "        data = json.load(json_data)\n",
    "\n",
    "        for frame_id, boxes in data['frames'].items():\n",
    "            if not frame_id in test_annotations:\n",
    "                test_annotations[frame_id] = {}\n",
    "            for box in boxes:\n",
    "                for tag in box['tags']:\n",
    "                    if not tag in test_annotations[frame_id]:\n",
    "                        test_annotations[frame_id][tag] = 0\n",
    "                    test_annotations[frame_id][tag] += 1\n",
    "\n",
    "    df = pd.DataFrame.from_dict(test_annotations, orient='index')\n",
    "    df = df.fillna(0)\n",
    "    df = df.set_index(pd.to_numeric(df.index))\n",
    "    df = df.sort_index(kind='mergesort')\n",
    "    \n",
    "    return df\n",
    "    \n",
    "test = vott_to_dataframe(test_file)\n",
    "test.iloc[4:].head()"
   ]
  },
  {
   "cell_type": "code",
   "execution_count": 37,
   "metadata": {},
   "outputs": [
    {
     "data": {
      "text/html": [
       "<div>\n",
       "<style scoped>\n",
       "    .dataframe tbody tr th:only-of-type {\n",
       "        vertical-align: middle;\n",
       "    }\n",
       "\n",
       "    .dataframe tbody tr th {\n",
       "        vertical-align: top;\n",
       "    }\n",
       "\n",
       "    .dataframe thead th {\n",
       "        text-align: right;\n",
       "    }\n",
       "</style>\n",
       "<table border=\"1\" class=\"dataframe\">\n",
       "  <thead>\n",
       "    <tr style=\"text-align: right;\">\n",
       "      <th></th>\n",
       "      <th>bicycle</th>\n",
       "      <th>car</th>\n",
       "      <th>fire hydrant</th>\n",
       "      <th>motorbike</th>\n",
       "      <th>person</th>\n",
       "      <th>traffic light</th>\n",
       "      <th>truck</th>\n",
       "    </tr>\n",
       "  </thead>\n",
       "  <tbody>\n",
       "    <tr>\n",
       "      <th>5</th>\n",
       "      <td>0.0</td>\n",
       "      <td>3</td>\n",
       "      <td>0.0</td>\n",
       "      <td>2.0</td>\n",
       "      <td>3</td>\n",
       "      <td>0.0</td>\n",
       "      <td>0.0</td>\n",
       "    </tr>\n",
       "    <tr>\n",
       "      <th>6</th>\n",
       "      <td>0.0</td>\n",
       "      <td>5</td>\n",
       "      <td>0.0</td>\n",
       "      <td>2.0</td>\n",
       "      <td>3</td>\n",
       "      <td>0.0</td>\n",
       "      <td>0.0</td>\n",
       "    </tr>\n",
       "    <tr>\n",
       "      <th>7</th>\n",
       "      <td>0.0</td>\n",
       "      <td>5</td>\n",
       "      <td>0.0</td>\n",
       "      <td>2.0</td>\n",
       "      <td>4</td>\n",
       "      <td>0.0</td>\n",
       "      <td>0.0</td>\n",
       "    </tr>\n",
       "    <tr>\n",
       "      <th>8</th>\n",
       "      <td>0.0</td>\n",
       "      <td>4</td>\n",
       "      <td>0.0</td>\n",
       "      <td>2.0</td>\n",
       "      <td>4</td>\n",
       "      <td>0.0</td>\n",
       "      <td>0.0</td>\n",
       "    </tr>\n",
       "    <tr>\n",
       "      <th>9</th>\n",
       "      <td>0.0</td>\n",
       "      <td>4</td>\n",
       "      <td>0.0</td>\n",
       "      <td>2.0</td>\n",
       "      <td>4</td>\n",
       "      <td>0.0</td>\n",
       "      <td>0.0</td>\n",
       "    </tr>\n",
       "  </tbody>\n",
       "</table>\n",
       "</div>"
      ],
      "text/plain": [
       "   bicycle  car  fire hydrant  motorbike  person  traffic light  truck\n",
       "5      0.0    3           0.0        2.0       3            0.0    0.0\n",
       "6      0.0    5           0.0        2.0       3            0.0    0.0\n",
       "7      0.0    5           0.0        2.0       4            0.0    0.0\n",
       "8      0.0    4           0.0        2.0       4            0.0    0.0\n",
       "9      0.0    4           0.0        2.0       4            0.0    0.0"
      ]
     },
     "execution_count": 37,
     "metadata": {},
     "output_type": "execute_result"
    }
   ],
   "source": [
    "def vvc_to_df(json_file):\n",
    "    count_summary = {}\n",
    "    time_summary = {}\n",
    "\n",
    "    df = pd.DataFrame()\n",
    "    \n",
    "    times = pd.DataFrame()\n",
    "\n",
    "    with open(json_file) as json_data:\n",
    "        data = json.load(json_data)\n",
    "        for frame_id, objects in data['frames'].items():\n",
    "            \n",
    "            # Extract counts\n",
    "            if not frame_id in count_summary:\n",
    "                count_summary[frame_id] = {}\n",
    "            \n",
    "            for obj in objects['objects']:\n",
    "                tag = obj['tag']\n",
    "                \n",
    "                if not tag in count_summary[frame_id]:\n",
    "                    count_summary[frame_id][tag] = 0\n",
    "                \n",
    "                count_summary[frame_id][tag] += 1\n",
    "                \n",
    "            # Extract running time\n",
    "            if not frame_id in time_summary:\n",
    "                time_summary[frame_id] = {}\n",
    "                \n",
    "            for key, value in objects['timestamps'].items():\n",
    "                time_summary[frame_id][key] = value\n",
    "\n",
    "    df = pd.DataFrame.from_dict(count_summary, orient='index')\n",
    "    df = df.fillna(0)\n",
    "    df = df.set_index(pd.to_numeric(df.index))\n",
    "    df = df.sort_index(kind='mergesort')\n",
    "    df = df.reindex(sorted(df.columns), axis=1)\n",
    "    \n",
    "    df.index += 1\n",
    "    \n",
    "    times = pd.DataFrame.from_dict(time_summary, orient='index')\n",
    "    times = times.apply(pd.to_datetime)\n",
    "    original_columns = times.columns\n",
    "    times['preprocessing'] = times['preprocessing_end'] - times['start']\n",
    "    times['detection'] = times['detection_end'] - times['preprocessing_end']\n",
    "    times['tracking'] = times['tracking_end'] - times['detection_end']\n",
    "    times['postprocessing'] = times['postprocessing_end'] - times['tracking_end']\n",
    "    times['total'] = times['postprocessing_end'] - times['start']\n",
    "    times = times.drop(columns=original_columns)\n",
    "    times = times.astype('timedelta64[ms]')\n",
    "    \n",
    "    return df, times\n",
    "    \n",
    "experiment, times = vvc_to_df(experiment_file)\n",
    "experiment.iloc[4:].head()"
   ]
  },
  {
   "cell_type": "code",
   "execution_count": 38,
   "metadata": {},
   "outputs": [],
   "source": [
    "def calc_precision(test, experiment): \n",
    "    error = test.sub(experiment, axis='columns', fill_value=0).abs().div(test, fill_value=0)\n",
    "    \n",
    "    error = error.where(error <= 1, 1) # Max error is 1\n",
    "\n",
    "    error = error.replace([np.inf, -np.inf], 1)\n",
    "    error = error.fillna(0)\n",
    "\n",
    "    precision = 1 - error\n",
    "    precision.sort_index(inplace=True, kind='mergesort')\n",
    "\n",
    "    return precision"
   ]
  },
  {
   "cell_type": "code",
   "execution_count": 39,
   "metadata": {},
   "outputs": [
    {
     "data": {
      "text/html": [
       "<div>\n",
       "<style scoped>\n",
       "    .dataframe tbody tr th:only-of-type {\n",
       "        vertical-align: middle;\n",
       "    }\n",
       "\n",
       "    .dataframe tbody tr th {\n",
       "        vertical-align: top;\n",
       "    }\n",
       "\n",
       "    .dataframe thead th {\n",
       "        text-align: right;\n",
       "    }\n",
       "</style>\n",
       "<table border=\"1\" class=\"dataframe\">\n",
       "  <thead>\n",
       "    <tr style=\"text-align: right;\">\n",
       "      <th></th>\n",
       "      <th>frcnn-resnet50</th>\n",
       "      <th>frcnn-resnet50-transfer</th>\n",
       "      <th>frcnn-resnet50-tunned</th>\n",
       "      <th>yolov3</th>\n",
       "      <th>yolov3-transfer</th>\n",
       "    </tr>\n",
       "  </thead>\n",
       "  <tbody>\n",
       "    <tr>\n",
       "      <th>motorbike</th>\n",
       "      <td>0.099617</td>\n",
       "      <td>0.103448</td>\n",
       "      <td>0.088123</td>\n",
       "      <td>0.122605</td>\n",
       "      <td>0.036398</td>\n",
       "    </tr>\n",
       "    <tr>\n",
       "      <th>car</th>\n",
       "      <td>0.314176</td>\n",
       "      <td>0.455939</td>\n",
       "      <td>0.381226</td>\n",
       "      <td>0.431034</td>\n",
       "      <td>0.528736</td>\n",
       "    </tr>\n",
       "  </tbody>\n",
       "</table>\n",
       "</div>"
      ],
      "text/plain": [
       "           frcnn-resnet50  frcnn-resnet50-transfer  frcnn-resnet50-tunned  \\\n",
       "motorbike        0.099617                 0.103448               0.088123   \n",
       "car              0.314176                 0.455939               0.381226   \n",
       "\n",
       "             yolov3  yolov3-transfer  \n",
       "motorbike  0.122605         0.036398  \n",
       "car        0.431034         0.528736  "
      ]
     },
     "metadata": {},
     "output_type": "display_data"
    },
    {
     "data": {
      "text/html": [
       "<div>\n",
       "<style scoped>\n",
       "    .dataframe tbody tr th:only-of-type {\n",
       "        vertical-align: middle;\n",
       "    }\n",
       "\n",
       "    .dataframe tbody tr th {\n",
       "        vertical-align: top;\n",
       "    }\n",
       "\n",
       "    .dataframe thead th {\n",
       "        text-align: right;\n",
       "    }\n",
       "</style>\n",
       "<table border=\"1\" class=\"dataframe\">\n",
       "  <thead>\n",
       "    <tr style=\"text-align: right;\">\n",
       "      <th></th>\n",
       "      <th>frcnn-resnet50</th>\n",
       "      <th>frcnn-resnet50-transfer</th>\n",
       "      <th>frcnn-resnet50-tunned</th>\n",
       "      <th>yolov3</th>\n",
       "      <th>yolov3-transfer</th>\n",
       "    </tr>\n",
       "  </thead>\n",
       "  <tbody>\n",
       "    <tr>\n",
       "      <th>preprocessing</th>\n",
       "      <td>45.546512</td>\n",
       "      <td>50.476744</td>\n",
       "      <td>47.186047</td>\n",
       "      <td>12.255814</td>\n",
       "      <td>12.593023</td>\n",
       "    </tr>\n",
       "    <tr>\n",
       "      <th>detection</th>\n",
       "      <td>498.569767</td>\n",
       "      <td>600.488372</td>\n",
       "      <td>565.081395</td>\n",
       "      <td>73.290698</td>\n",
       "      <td>55.162791</td>\n",
       "    </tr>\n",
       "    <tr>\n",
       "      <th>tracking</th>\n",
       "      <td>0.000000</td>\n",
       "      <td>0.000000</td>\n",
       "      <td>0.000000</td>\n",
       "      <td>0.000000</td>\n",
       "      <td>0.000000</td>\n",
       "    </tr>\n",
       "    <tr>\n",
       "      <th>postprocessing</th>\n",
       "      <td>23.720930</td>\n",
       "      <td>25.581395</td>\n",
       "      <td>24.720930</td>\n",
       "      <td>6.558140</td>\n",
       "      <td>5.604651</td>\n",
       "    </tr>\n",
       "  </tbody>\n",
       "</table>\n",
       "</div>"
      ],
      "text/plain": [
       "                frcnn-resnet50  frcnn-resnet50-transfer  \\\n",
       "preprocessing        45.546512                50.476744   \n",
       "detection           498.569767               600.488372   \n",
       "tracking              0.000000                 0.000000   \n",
       "postprocessing       23.720930                25.581395   \n",
       "\n",
       "                frcnn-resnet50-tunned     yolov3  yolov3-transfer  \n",
       "preprocessing               47.186047  12.255814        12.593023  \n",
       "detection                  565.081395  73.290698        55.162791  \n",
       "tracking                     0.000000   0.000000         0.000000  \n",
       "postprocessing              24.720930   6.558140         5.604651  "
      ]
     },
     "metadata": {},
     "output_type": "display_data"
    },
    {
     "data": {
      "text/html": [
       "<div>\n",
       "<style scoped>\n",
       "    .dataframe tbody tr th:only-of-type {\n",
       "        vertical-align: middle;\n",
       "    }\n",
       "\n",
       "    .dataframe tbody tr th {\n",
       "        vertical-align: top;\n",
       "    }\n",
       "\n",
       "    .dataframe thead th {\n",
       "        text-align: right;\n",
       "    }\n",
       "</style>\n",
       "<table border=\"1\" class=\"dataframe\">\n",
       "  <thead>\n",
       "    <tr style=\"text-align: right;\">\n",
       "      <th></th>\n",
       "      <th>frcnn-resnet50</th>\n",
       "      <th>frcnn-resnet50-transfer</th>\n",
       "      <th>frcnn-resnet50-tunned</th>\n",
       "      <th>yolov3</th>\n",
       "      <th>yolov3-transfer</th>\n",
       "    </tr>\n",
       "  </thead>\n",
       "  <tbody>\n",
       "    <tr>\n",
       "      <th>1066x600</th>\n",
       "      <td>1.758008</td>\n",
       "      <td>1.47566</td>\n",
       "      <td>1.567255</td>\n",
       "      <td>10.735239</td>\n",
       "      <td>13.4375</td>\n",
       "    </tr>\n",
       "  </tbody>\n",
       "</table>\n",
       "</div>"
      ],
      "text/plain": [
       "          frcnn-resnet50  frcnn-resnet50-transfer  frcnn-resnet50-tunned  \\\n",
       "1066x600        1.758008                  1.47566               1.567255   \n",
       "\n",
       "             yolov3  yolov3-transfer  \n",
       "1066x600  10.735239          13.4375  "
      ]
     },
     "execution_count": 39,
     "metadata": {},
     "output_type": "execute_result"
    }
   ],
   "source": [
    "test = vott_to_dataframe(test_file)\n",
    "\n",
    "avg_precision = pd.DataFrame(index=test.columns)\n",
    "\n",
    "avg_fps = pd.DataFrame(index=['1066x600' ])\n",
    "avg_time = pd.DataFrame(index=['preprocessing', 'detection', 'tracking', 'postprocessing'])\n",
    "\n",
    "for model in config.models:\n",
    "    experiment_folder = os.path.join(config.base_folder, 'Videos', model)\n",
    "    experiment_file = os.path.join(experiment_folder, annotations_file)\n",
    "    \n",
    "    experiment, times = vvc_to_df(experiment_file)\n",
    "    \n",
    "    precision = calc_precision(test, experiment)\n",
    "    \n",
    "    mean_precision = precision.mean().to_frame(model)\n",
    "    \n",
    "    avg_precision = avg_precision.join(mean_precision)\n",
    "    \n",
    "    # times\n",
    "    \n",
    "    mean_time = times[avg_time.index].mean().to_frame(model)\n",
    "    \n",
    "    avg_time = avg_time.join(mean_time)\n",
    "    \n",
    "    # fps\n",
    "    \n",
    "    total = times['total']\n",
    "    \n",
    "    fps = (total.count() / total.sum())*1000\n",
    "        \n",
    "    avg_fps[model] = fps\n",
    "\n",
    "\n",
    "# dispay\n",
    "display(avg_precision)\n",
    "\n",
    "display(avg_time)\n",
    "\n",
    "avg_fps"
   ]
  },
  {
   "cell_type": "code",
   "execution_count": 40,
   "metadata": {},
   "outputs": [
    {
     "data": {
      "text/plain": [
       "<Figure size 432x288 with 0 Axes>"
      ]
     },
     "metadata": {},
     "output_type": "display_data"
    },
    {
     "data": {
      "image/png": "[encoded data removed]",
      "text/plain": [
       "<Figure size 576x432 with 1 Axes>"
      ]
     },
     "metadata": {
      "needs_background": "light"
     },
     "output_type": "display_data"
    }
   ],
   "source": [
    "plt.figure()\n",
    "\n",
    "ax = avg_precision.plot.bar(figsize=(8, 6), rot=0)\n",
    "\n",
    "plt.grid(axis='y')\n",
    "\n",
    "ax.set_ylabel('Average Counting Precision')\n",
    "\n",
    "plt.tight_layout()\n",
    "\n",
    "fig = ax.get_figure()\n",
    "fig.savefig('./img/mean_precision.png')"
   ]
  },
  {
   "cell_type": "code",
   "execution_count": 41,
   "metadata": {},
   "outputs": [
    {
     "data": {
      "text/plain": [
       "<Figure size 432x288 with 0 Axes>"
      ]
     },
     "metadata": {},
     "output_type": "display_data"
    },
    {
     "data": {
      "image/png": "[encoded data removed]",
      "text/plain": [
       "<Figure size 576x432 with 1 Axes>"
      ]
     },
     "metadata": {
      "needs_background": "light"
     },
     "output_type": "display_data"
    }
   ],
   "source": [
    "plt.figure()\n",
    "\n",
    "ax = avg_time.plot.bar(figsize=(8, 6), rot=0)\n",
    "\n",
    "plt.grid(axis='y')\n",
    "\n",
    "ax.set_ylabel('Average frame time (ms)')\n",
    "\n",
    "plt.tight_layout()\n",
    "\n",
    "fig = ax.get_figure()\n",
    "fig.savefig('./img/avg_time.png')"
   ]
  },
  {
   "cell_type": "code",
   "execution_count": 42,
   "metadata": {},
   "outputs": [
    {
     "data": {
      "text/plain": [
       "<Figure size 432x288 with 0 Axes>"
      ]
     },
     "metadata": {},
     "output_type": "display_data"
    },
    {
     "data": {
      "image/png": "[encoded data removed]",
      "text/plain": [
       "<Figure size 576x432 with 1 Axes>"
      ]
     },
     "metadata": {
      "needs_background": "light"
     },
     "output_type": "display_data"
    }
   ],
   "source": [
    "plt.figure()\n",
    "\n",
    "ax = avg_fps.plot.barh(figsize=(8, 6))\n",
    "\n",
    "plt.grid(axis='x')\n",
    "\n",
    "ax.set_ylabel('Resolution')\n",
    "ax.set_xlabel('FPS')\n",
    "\n",
    "plt.tight_layout()\n",
    "\n",
    "fig = ax.get_figure()\n",
    "fig.savefig('./img/fps.png')"
   ]
  },
  {
   "cell_type": "code",
   "execution_count": null,
   "metadata": {},
   "outputs": [],
   "source": []
  },
  {
   "cell_type": "code",
   "execution_count": null,
   "metadata": {},
   "outputs": [],
   "source": []
  }
 ],
 "metadata": {
  "kernelspec": {
   "display_name": "Python 3",
   "language": "python",
   "name": "python3"
  },
  "language_info": {
   "codemirror_mode": {
    "name": "ipython",
    "version": 3
   },
   "file_extension": ".py",
   "mimetype": "text/x-python",
   "name": "python",
   "nbconvert_exporter": "python",
   "pygments_lexer": "ipython3",
   "version": "3.5.6"
  }
 },
 "nbformat": 4,
 "nbformat_minor": 2
}
