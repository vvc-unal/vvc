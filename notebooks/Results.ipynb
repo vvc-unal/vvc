{
 "cells": [
  {
   "cell_type": "code",
   "execution_count": 47,
   "metadata": {},
   "outputs": [],
   "source": [
    "import json\n",
    "import os\n",
    "import sys\n",
    "\n",
    "import matplotlib.pyplot as plt\n",
    "import numpy as np\n",
    "import pandas as pd\n",
    "from sklearn.metrics import precision_score\n",
    "\n",
    "module_path = os.path.abspath(os.path.join('..'))\n",
    "if module_path not in sys.path:\n",
    "    sys.path.append(module_path)\n",
    "\n",
    "from vvc import config"
   ]
  },
  {
   "cell_type": "code",
   "execution_count": 98,
   "metadata": {},
   "outputs": [
    {
     "data": {
      "text/plain": [
       "'/home/juan/workspace/Maestria/Videos/original/MOV_0861.mp4.json'"
      ]
     },
     "execution_count": 98,
     "metadata": {},
     "output_type": "execute_result"
    }
   ],
   "source": [
    "dataset_folder = config.video_folder\n",
    "\n",
    "experiment_folder = os.path.join(config.base_folder, 'Videos', 'frcnn-resnet50-transfer')\n",
    "\n",
    "annotations_file = 'MOV_0861.mp4.json'\n",
    "\n",
    "test_file = os.path.join(dataset_folder, annotations_file)\n",
    "experiment_file = os.path.join(experiment_folder, annotations_file)\n",
    "\n",
    "test_file"
   ]
  },
  {
   "cell_type": "code",
   "execution_count": 45,
   "metadata": {},
   "outputs": [
    {
     "data": {
      "text/html": [
       "<div>\n",
       "<style scoped>\n",
       "    .dataframe tbody tr th:only-of-type {\n",
       "        vertical-align: middle;\n",
       "    }\n",
       "\n",
       "    .dataframe tbody tr th {\n",
       "        vertical-align: top;\n",
       "    }\n",
       "\n",
       "    .dataframe thead th {\n",
       "        text-align: right;\n",
       "    }\n",
       "</style>\n",
       "<table border=\"1\" class=\"dataframe\">\n",
       "  <thead>\n",
       "    <tr style=\"text-align: right;\">\n",
       "      <th></th>\n",
       "      <th>car</th>\n",
       "      <th>motorbike</th>\n",
       "    </tr>\n",
       "  </thead>\n",
       "  <tbody>\n",
       "    <tr>\n",
       "      <th>5</th>\n",
       "      <td>2</td>\n",
       "      <td>2.0</td>\n",
       "    </tr>\n",
       "    <tr>\n",
       "      <th>6</th>\n",
       "      <td>1</td>\n",
       "      <td>0.0</td>\n",
       "    </tr>\n",
       "    <tr>\n",
       "      <th>7</th>\n",
       "      <td>2</td>\n",
       "      <td>2.0</td>\n",
       "    </tr>\n",
       "    <tr>\n",
       "      <th>8</th>\n",
       "      <td>2</td>\n",
       "      <td>2.0</td>\n",
       "    </tr>\n",
       "    <tr>\n",
       "      <th>9</th>\n",
       "      <td>2</td>\n",
       "      <td>2.0</td>\n",
       "    </tr>\n",
       "  </tbody>\n",
       "</table>\n",
       "</div>"
      ],
      "text/plain": [
       "   car  motorbike\n",
       "5    2        2.0\n",
       "6    1        0.0\n",
       "7    2        2.0\n",
       "8    2        2.0\n",
       "9    2        2.0"
      ]
     },
     "execution_count": 45,
     "metadata": {},
     "output_type": "execute_result"
    }
   ],
   "source": [
    "def vott_to_dataframe(json_file):\n",
    "    test_annotations = {}\n",
    "\n",
    "    df = pd.DataFrame()\n",
    "\n",
    "    with open(json_file) as json_data:\n",
    "        data = json.load(json_data)\n",
    "\n",
    "        for frame_id, boxes in data['frames'].items():\n",
    "            if not frame_id in test_annotations:\n",
    "                test_annotations[frame_id] = {}\n",
    "            for box in boxes:\n",
    "                for tag in box['tags']:\n",
    "                    if not tag in test_annotations[frame_id]:\n",
    "                        test_annotations[frame_id][tag] = 0\n",
    "                    test_annotations[frame_id][tag] += 1\n",
    "\n",
    "    df = pd.DataFrame.from_dict(test_annotations, orient='index')\n",
    "    df = df.fillna(0)\n",
    "    df = df.set_index(pd.to_numeric(df.index))\n",
    "    df = df.sort_index(kind='mergesort')\n",
    "    \n",
    "    return df\n",
    "    \n",
    "test = vott_to_dataframe(test_file)\n",
    "test.iloc[4:].head()"
   ]
  },
  {
   "cell_type": "code",
   "execution_count": 66,
   "metadata": {
    "scrolled": true
   },
   "outputs": [
    {
     "data": {
      "text/html": [
       "<div>\n",
       "<style scoped>\n",
       "    .dataframe tbody tr th:only-of-type {\n",
       "        vertical-align: middle;\n",
       "    }\n",
       "\n",
       "    .dataframe tbody tr th {\n",
       "        vertical-align: top;\n",
       "    }\n",
       "\n",
       "    .dataframe thead th {\n",
       "        text-align: right;\n",
       "    }\n",
       "</style>\n",
       "<table border=\"1\" class=\"dataframe\">\n",
       "  <thead>\n",
       "    <tr style=\"text-align: right;\">\n",
       "      <th></th>\n",
       "      <th>car</th>\n",
       "      <th>motorbike</th>\n",
       "    </tr>\n",
       "  </thead>\n",
       "  <tbody>\n",
       "    <tr>\n",
       "      <th>5</th>\n",
       "      <td>1</td>\n",
       "      <td>2.0</td>\n",
       "    </tr>\n",
       "    <tr>\n",
       "      <th>6</th>\n",
       "      <td>1</td>\n",
       "      <td>1.0</td>\n",
       "    </tr>\n",
       "    <tr>\n",
       "      <th>7</th>\n",
       "      <td>1</td>\n",
       "      <td>1.0</td>\n",
       "    </tr>\n",
       "    <tr>\n",
       "      <th>8</th>\n",
       "      <td>1</td>\n",
       "      <td>1.0</td>\n",
       "    </tr>\n",
       "    <tr>\n",
       "      <th>9</th>\n",
       "      <td>1</td>\n",
       "      <td>1.0</td>\n",
       "    </tr>\n",
       "  </tbody>\n",
       "</table>\n",
       "</div>"
      ],
      "text/plain": [
       "   car  motorbike\n",
       "5    1        2.0\n",
       "6    1        1.0\n",
       "7    1        1.0\n",
       "8    1        1.0\n",
       "9    1        1.0"
      ]
     },
     "execution_count": 66,
     "metadata": {},
     "output_type": "execute_result"
    }
   ],
   "source": [
    "def vvc_to_df(json_file):\n",
    "    summary = {}\n",
    "\n",
    "    df = pd.DataFrame()\n",
    "\n",
    "    with open(json_file) as json_data:\n",
    "        data = json.load(json_data)\n",
    "        for frame_id, objects in data['frames'].items():\n",
    "            \n",
    "            if not frame_id in summary:\n",
    "                summary[frame_id] = {}\n",
    "            \n",
    "            for obj in objects['objects']:\n",
    "                tag = obj['tag']\n",
    "                \n",
    "                if not tag in summary[frame_id]:\n",
    "                    summary[frame_id][tag] = 0\n",
    "                \n",
    "                summary[frame_id][tag] += 1\n",
    "\n",
    "    df = pd.DataFrame.from_dict(summary, orient='index')\n",
    "    df = df.fillna(0)\n",
    "    df = df.set_index(pd.to_numeric(df.index))\n",
    "    df = df.sort_index(kind='mergesort')\n",
    "    df = df.reindex(sorted(df.columns), axis=1)\n",
    "    \n",
    "    df.index += 1\n",
    "    \n",
    "    return df\n",
    "    \n",
    "experiment = vvc_to_df(experiment_file)\n",
    "experiment.iloc[4:].head()"
   ]
  },
  {
   "cell_type": "code",
   "execution_count": 101,
   "metadata": {},
   "outputs": [],
   "source": [
    "def calc_precision(test, experiment): \n",
    "    error = test.sub(experiment, axis='columns', fill_value=0).abs().div(test, fill_value=0)\n",
    "\n",
    "    error = error.replace([np.inf, -np.inf], 1)\n",
    "    error = error.fillna(0)\n",
    "\n",
    "    precision = 1 - error\n",
    "    precision.sort_index(inplace=True, kind='mergesort')\n",
    "\n",
    "    return precision"
   ]
  },
  {
   "cell_type": "code",
   "execution_count": 110,
   "metadata": {},
   "outputs": [
    {
     "name": "stdout",
     "output_type": "stream",
     "text": [
      "             frcnn-resnet50\n",
      "car                0.522989\n",
      "motorbike          0.827586\n",
      "person             0.724138\n",
      "pottedplant        0.781609\n",
      "           frcnn-resnet50-transfer\n",
      "car                       0.258621\n",
      "motorbike                 0.885057\n"
     ]
    },
    {
     "data": {
      "text/html": [
       "<div>\n",
       "<style scoped>\n",
       "    .dataframe tbody tr th:only-of-type {\n",
       "        vertical-align: middle;\n",
       "    }\n",
       "\n",
       "    .dataframe tbody tr th {\n",
       "        vertical-align: top;\n",
       "    }\n",
       "\n",
       "    .dataframe thead th {\n",
       "        text-align: right;\n",
       "    }\n",
       "</style>\n",
       "<table border=\"1\" class=\"dataframe\">\n",
       "  <thead>\n",
       "    <tr style=\"text-align: right;\">\n",
       "      <th></th>\n",
       "      <th>frcnn-resnet50</th>\n",
       "      <th>frcnn-resnet50-transfer</th>\n",
       "    </tr>\n",
       "  </thead>\n",
       "  <tbody>\n",
       "    <tr>\n",
       "      <th>car</th>\n",
       "      <td>0.522989</td>\n",
       "      <td>0.258621</td>\n",
       "    </tr>\n",
       "    <tr>\n",
       "      <th>motorbike</th>\n",
       "      <td>0.827586</td>\n",
       "      <td>0.885057</td>\n",
       "    </tr>\n",
       "  </tbody>\n",
       "</table>\n",
       "</div>"
      ],
      "text/plain": [
       "           frcnn-resnet50  frcnn-resnet50-transfer\n",
       "car              0.522989                 0.258621\n",
       "motorbike        0.827586                 0.885057"
      ]
     },
     "execution_count": 110,
     "metadata": {},
     "output_type": "execute_result"
    }
   ],
   "source": [
    "test = vott_to_dataframe(test_file)\n",
    "\n",
    "avg_precision = pd.DataFrame(index=test.columns)\n",
    "\n",
    "for model in config.models:\n",
    "    experiment_folder = os.path.join(config.base_folder, 'Videos', model)\n",
    "    experiment_file = os.path.join(experiment_folder, annotations_file)\n",
    "    \n",
    "    experiment = vvc_to_df(experiment_file)\n",
    "    \n",
    "    precision = calc_precision(test, experiment)\n",
    "    \n",
    "    mean_precision = precision.mean().to_frame(model)\n",
    "    \n",
    "    print(mean_precision)\n",
    "    \n",
    "    avg_precision = avg_precision.join(mean_precision)\n",
    "\n",
    "avg_precision"
   ]
  },
  {
   "cell_type": "code",
   "execution_count": 113,
   "metadata": {},
   "outputs": [
    {
     "data": {
      "text/plain": [
       "<Figure size 432x288 with 0 Axes>"
      ]
     },
     "metadata": {},
     "output_type": "display_data"
    },
    {
     "data": {
      "image/png": "[encoded data removed]",
      "text/plain": [
       "<Figure size 576x432 with 1 Axes>"
      ]
     },
     "metadata": {
      "needs_background": "light"
     },
     "output_type": "display_data"
    }
   ],
   "source": [
    "plt.figure()\n",
    "\n",
    "ax = avg_precision.plot.bar(figsize=(8, 6))\n",
    "\n",
    "plt.grid(axis='y')\n",
    "\n",
    "ax.set_ylabel('Average Precision')\n",
    "\n",
    "plt.tight_layout()\n",
    "\n",
    "fig = ax.get_figure()\n",
    "fig.savefig('./img/mean_precision.png')"
   ]
  },
  {
   "cell_type": "code",
   "execution_count": null,
   "metadata": {},
   "outputs": [],
   "source": []
  }
 ],
 "metadata": {
  "kernelspec": {
   "display_name": "Python 3",
   "language": "python",
   "name": "python3"
  },
  "language_info": {
   "codemirror_mode": {
    "name": "ipython",
    "version": 3
   },
   "file_extension": ".py",
   "mimetype": "text/x-python",
   "name": "python",
   "nbconvert_exporter": "python",
   "pygments_lexer": "ipython3",
   "version": "3.5.6"
  }
 },
 "nbformat": 4,
 "nbformat_minor": 2
}
