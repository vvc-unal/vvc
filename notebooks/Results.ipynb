{
 "cells": [
  {
   "cell_type": "code",
   "execution_count": 1,
   "metadata": {},
   "outputs": [],
   "source": [
    "import json\n",
    "import os\n",
    "\n",
    "import matplotlib.pyplot as plt\n",
    "import pandas as pd\n",
    "from sklearn.metrics import precision_score"
   ]
  },
  {
   "cell_type": "code",
   "execution_count": 14,
   "metadata": {},
   "outputs": [
    {
     "data": {
      "text/plain": [
       "'/home/juan/workspace/Maestria/Videos/MOV_0861.mp4.json'"
      ]
     },
     "execution_count": 14,
     "metadata": {},
     "output_type": "execute_result"
    }
   ],
   "source": [
    "dataset_folder = os.environ['HOME'] + '/workspace/Maestria/Videos'\n",
    "experiment_folder = os.environ['HOME'] + '/workspace/Maestria/Videos/frcnn-restnet50-freeze'\n",
    "\n",
    "test_file = os.path.join(dataset_folder, 'MOV_0861.mp4.json')\n",
    "experiment_file = os.path.join(experiment_folder, 'MOV_0861_vvc.json')\n",
    "\n",
    "test_file"
   ]
  },
  {
   "cell_type": "code",
   "execution_count": 15,
   "metadata": {},
   "outputs": [
    {
     "data": {
      "text/html": [
       "<div>\n",
       "<style scoped>\n",
       "    .dataframe tbody tr th:only-of-type {\n",
       "        vertical-align: middle;\n",
       "    }\n",
       "\n",
       "    .dataframe tbody tr th {\n",
       "        vertical-align: top;\n",
       "    }\n",
       "\n",
       "    .dataframe thead th {\n",
       "        text-align: right;\n",
       "    }\n",
       "</style>\n",
       "<table border=\"1\" class=\"dataframe\">\n",
       "  <thead>\n",
       "    <tr style=\"text-align: right;\">\n",
       "      <th></th>\n",
       "      <th>car</th>\n",
       "      <th>motorbike</th>\n",
       "      <th>taxi</th>\n",
       "    </tr>\n",
       "  </thead>\n",
       "  <tbody>\n",
       "    <tr>\n",
       "      <th>1</th>\n",
       "      <td>0.0</td>\n",
       "      <td>2.0</td>\n",
       "      <td>1.0</td>\n",
       "    </tr>\n",
       "    <tr>\n",
       "      <th>2</th>\n",
       "      <td>0.0</td>\n",
       "      <td>2.0</td>\n",
       "      <td>1.0</td>\n",
       "    </tr>\n",
       "    <tr>\n",
       "      <th>3</th>\n",
       "      <td>0.0</td>\n",
       "      <td>2.0</td>\n",
       "      <td>1.0</td>\n",
       "    </tr>\n",
       "    <tr>\n",
       "      <th>4</th>\n",
       "      <td>0.0</td>\n",
       "      <td>2.0</td>\n",
       "      <td>1.0</td>\n",
       "    </tr>\n",
       "    <tr>\n",
       "      <th>5</th>\n",
       "      <td>0.0</td>\n",
       "      <td>2.0</td>\n",
       "      <td>1.0</td>\n",
       "    </tr>\n",
       "  </tbody>\n",
       "</table>\n",
       "</div>"
      ],
      "text/plain": [
       "   car  motorbike  taxi\n",
       "1  0.0        2.0   1.0\n",
       "2  0.0        2.0   1.0\n",
       "3  0.0        2.0   1.0\n",
       "4  0.0        2.0   1.0\n",
       "5  0.0        2.0   1.0"
      ]
     },
     "execution_count": 15,
     "metadata": {},
     "output_type": "execute_result"
    }
   ],
   "source": [
    "def vott_to_dataframe(json_file):\n",
    "    test_annotations = {}\n",
    "\n",
    "    df = pd.DataFrame()\n",
    "\n",
    "    with open(json_file) as json_data:\n",
    "        data = json.load(json_data)\n",
    "\n",
    "        for frame_id, boxes in data['frames'].items():\n",
    "            if not frame_id in test_annotations:\n",
    "                test_annotations[frame_id] = {}\n",
    "            for box in boxes:\n",
    "                for tag in box['tags']:\n",
    "                    if not tag in test_annotations[frame_id]:\n",
    "                        test_annotations[frame_id][tag] = 0\n",
    "                    test_annotations[frame_id][tag] += 1\n",
    "\n",
    "    df = pd.DataFrame.from_dict(test_annotations, orient='index')\n",
    "    df = df.fillna(0)\n",
    "    df = df.set_index(pd.to_numeric(df.index))\n",
    "    df = df.sort_index(kind='mergesort')\n",
    "    \n",
    "    return df\n",
    "    \n",
    "test = vott_to_dataframe(test_file)\n",
    "test.head()"
   ]
  },
  {
   "cell_type": "code",
   "execution_count": 16,
   "metadata": {},
   "outputs": [
    {
     "data": {
      "text/html": [
       "<div>\n",
       "<style scoped>\n",
       "    .dataframe tbody tr th:only-of-type {\n",
       "        vertical-align: middle;\n",
       "    }\n",
       "\n",
       "    .dataframe tbody tr th {\n",
       "        vertical-align: top;\n",
       "    }\n",
       "\n",
       "    .dataframe thead th {\n",
       "        text-align: right;\n",
       "    }\n",
       "</style>\n",
       "<table border=\"1\" class=\"dataframe\">\n",
       "  <thead>\n",
       "    <tr style=\"text-align: right;\">\n",
       "      <th></th>\n",
       "      <th>motorbike</th>\n",
       "      <th>taxi</th>\n",
       "    </tr>\n",
       "  </thead>\n",
       "  <tbody>\n",
       "    <tr>\n",
       "      <th>1</th>\n",
       "      <td>2.0</td>\n",
       "      <td>1.0</td>\n",
       "    </tr>\n",
       "    <tr>\n",
       "      <th>2</th>\n",
       "      <td>2.0</td>\n",
       "      <td>1.0</td>\n",
       "    </tr>\n",
       "    <tr>\n",
       "      <th>3</th>\n",
       "      <td>4.0</td>\n",
       "      <td>1.0</td>\n",
       "    </tr>\n",
       "    <tr>\n",
       "      <th>4</th>\n",
       "      <td>4.0</td>\n",
       "      <td>1.0</td>\n",
       "    </tr>\n",
       "    <tr>\n",
       "      <th>5</th>\n",
       "      <td>3.0</td>\n",
       "      <td>1.0</td>\n",
       "    </tr>\n",
       "  </tbody>\n",
       "</table>\n",
       "</div>"
      ],
      "text/plain": [
       "   motorbike  taxi\n",
       "1        2.0   1.0\n",
       "2        2.0   1.0\n",
       "3        4.0   1.0\n",
       "4        4.0   1.0\n",
       "5        3.0   1.0"
      ]
     },
     "execution_count": 16,
     "metadata": {},
     "output_type": "execute_result"
    }
   ],
   "source": [
    "def vvc_to_df(json_file):\n",
    "    summary = {}\n",
    "\n",
    "    df = pd.DataFrame()\n",
    "\n",
    "    with open(json_file) as json_data:\n",
    "        data = json.load(json_data)\n",
    "        for frame_id, objects in data['frames'].items():\n",
    "            \n",
    "            if not frame_id in summary:\n",
    "                summary[frame_id] = {}\n",
    "            \n",
    "            for obj in objects['objects']:\n",
    "                tag = obj['tag']\n",
    "                \n",
    "                if not tag in summary[frame_id]:\n",
    "                    summary[frame_id][tag] = 0\n",
    "                \n",
    "                summary[frame_id][tag] += 1\n",
    "\n",
    "    df = pd.DataFrame.from_dict(summary, orient='index')\n",
    "    df = df.fillna(0)\n",
    "    df = df.set_index(pd.to_numeric(df.index))\n",
    "    df = df.sort_index(kind='mergesort')\n",
    "    \n",
    "    df.index += 1\n",
    "    \n",
    "    return df\n",
    "    \n",
    "experiment = vvc_to_df(experiment_file)\n",
    "experiment.head()"
   ]
  },
  {
   "cell_type": "code",
   "execution_count": 17,
   "metadata": {},
   "outputs": [
    {
     "data": {
      "text/html": [
       "<div>\n",
       "<style scoped>\n",
       "    .dataframe tbody tr th:only-of-type {\n",
       "        vertical-align: middle;\n",
       "    }\n",
       "\n",
       "    .dataframe tbody tr th {\n",
       "        vertical-align: top;\n",
       "    }\n",
       "\n",
       "    .dataframe thead th {\n",
       "        text-align: right;\n",
       "    }\n",
       "</style>\n",
       "<table border=\"1\" class=\"dataframe\">\n",
       "  <thead>\n",
       "    <tr style=\"text-align: right;\">\n",
       "      <th></th>\n",
       "      <th>car</th>\n",
       "      <th>motorbike</th>\n",
       "      <th>taxi</th>\n",
       "    </tr>\n",
       "  </thead>\n",
       "  <tbody>\n",
       "    <tr>\n",
       "      <th>81</th>\n",
       "      <td>NaN</td>\n",
       "      <td>NaN</td>\n",
       "      <td>NaN</td>\n",
       "    </tr>\n",
       "    <tr>\n",
       "      <th>83</th>\n",
       "      <td>NaN</td>\n",
       "      <td>NaN</td>\n",
       "      <td>NaN</td>\n",
       "    </tr>\n",
       "    <tr>\n",
       "      <th>84</th>\n",
       "      <td>NaN</td>\n",
       "      <td>NaN</td>\n",
       "      <td>NaN</td>\n",
       "    </tr>\n",
       "    <tr>\n",
       "      <th>85</th>\n",
       "      <td>NaN</td>\n",
       "      <td>NaN</td>\n",
       "      <td>NaN</td>\n",
       "    </tr>\n",
       "    <tr>\n",
       "      <th>86</th>\n",
       "      <td>NaN</td>\n",
       "      <td>NaN</td>\n",
       "      <td>NaN</td>\n",
       "    </tr>\n",
       "  </tbody>\n",
       "</table>\n",
       "</div>"
      ],
      "text/plain": [
       "    car  motorbike  taxi\n",
       "81  NaN        NaN   NaN\n",
       "83  NaN        NaN   NaN\n",
       "84  NaN        NaN   NaN\n",
       "85  NaN        NaN   NaN\n",
       "86  NaN        NaN   NaN"
      ]
     },
     "execution_count": 17,
     "metadata": {},
     "output_type": "execute_result"
    }
   ],
   "source": [
    "result = test.sub(experiment, axis='columns').abs().div(test)\n",
    "#result = result.set_index(pd.to_numeric(result.index))\n",
    "result.sort_index(inplace=True, kind='mergesort')\n",
    "result.tail()"
   ]
  },
  {
   "cell_type": "code",
   "execution_count": 18,
   "metadata": {},
   "outputs": [
    {
     "data": {
      "text/plain": [
       "<matplotlib.axes._subplots.AxesSubplot at 0x7f23f44abd30>"
      ]
     },
     "execution_count": 18,
     "metadata": {},
     "output_type": "execute_result"
    },
    {
     "data": {
      "image/png": "[encoded data removed]",
      "text/plain": [
       "<Figure size 1152x648 with 1 Axes>"
      ]
     },
     "metadata": {
      "needs_background": "light"
     },
     "output_type": "display_data"
    }
   ],
   "source": [
    "result.plot(figsize=(16, 9))"
   ]
  },
  {
   "cell_type": "code",
   "execution_count": 19,
   "metadata": {},
   "outputs": [
    {
     "name": "stdout",
     "output_type": "stream",
     "text": [
      "car            NaN\n",
      "motorbike    0.625\n",
      "taxi         0.000\n",
      "dtype: float64\n"
     ]
    },
    {
     "data": {
      "image/png": "[encoded data removed]",
      "text/plain": [
       "<Figure size 576x432 with 1 Axes>"
      ]
     },
     "metadata": {
      "needs_background": "light"
     },
     "output_type": "display_data"
    }
   ],
   "source": [
    "avg_error = result.mean()\n",
    "\n",
    "print(avg_error)\n",
    "\n",
    "stds = result.std()\n",
    "\n",
    "plt.figure()\n",
    "\n",
    "ax = avg_error.plot.bar(yerr=stds, figsize=(8, 6), capsize=20)\n",
    "\n",
    "plt.grid(axis='y')\n",
    "\n",
    "ax.set_ylabel('Mean error')\n",
    "\n",
    "plt.tight_layout()\n",
    "\n",
    "fig = ax.get_figure()\n",
    "fig.savefig('./img/mean_error.png')"
   ]
  },
  {
   "cell_type": "code",
   "execution_count": null,
   "metadata": {},
   "outputs": [],
   "source": []
  }
 ],
 "metadata": {
  "kernelspec": {
   "display_name": "Python 3",
   "language": "python",
   "name": "python3"
  },
  "language_info": {
   "codemirror_mode": {
    "name": "ipython",
    "version": 3
   },
   "file_extension": ".py",
   "mimetype": "text/x-python",
   "name": "python",
   "nbconvert_exporter": "python",
   "pygments_lexer": "ipython3",
   "version": "3.5.6"
  }
 },
 "nbformat": 4,
 "nbformat_minor": 2
}
