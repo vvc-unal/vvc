{
 "cells": [
  {
   "cell_type": "markdown",
   "metadata": {},
   "source": [
    "# Bisque - enviroment setup\n",
    "\n",
    "[Bisque](http://bioimage.ucsb.edu/bisque)\n",
    "\n",
    "## Requirements\n",
    "\n",
    "* Ubuntu 16.04\n",
    "* Docker version 17.06.1-ce, build 874a737"
   ]
  },
  {
   "cell_type": "markdown",
   "metadata": {},
   "source": [
    "## Instructions\n",
    "\n",
    "1. Get the docker image\n",
    "    ```bash\n",
    "        #You may want to mount the bisque data directory on your host for easier upgrades\n",
    "        docker run -d -p 9898:8080 -v $PWD/data:/var/run/bisque cbiucsb/bisque\n",
    "\n",
    "    ```\n",
    "2. Start the server ([Bisque wiki](https://biodev.ece.ucsb.edu/projects/bisquik/wiki/InstallationInstructions05))\n",
    "```bash\n",
    "    # Get a shell by container ID or name \n",
    "    docker exec -i -t 665b4a1e17b6 /bin/bash #by ID\n",
    "    \n",
    "    # Start the server\n",
    "    bq-admin server start\n",
    "```\n",
    "4. Go to [localhost:9898](http://localhost:9898)\n",
    "5. Default user: ***admin***, password: ***admin***"
   ]
  },
  {
   "cell_type": "code",
   "execution_count": null,
   "metadata": {
    "collapsed": true
   },
   "outputs": [],
   "source": []
  }
 ],
 "metadata": {
  "kernelspec": {
   "display_name": "Python [default]",
   "language": "python",
   "name": "python3"
  },
  "language_info": {
   "codemirror_mode": {
    "name": "ipython",
    "version": 3
   },
   "file_extension": ".py",
   "mimetype": "text/x-python",
   "name": "python",
   "nbconvert_exporter": "python",
   "pygments_lexer": "ipython3",
   "version": "3.6.4"
  }
 },
 "nbformat": 4,
 "nbformat_minor": 2
}
