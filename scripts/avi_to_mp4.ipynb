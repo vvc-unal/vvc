{
 "cells": [
  {
   "cell_type": "code",
   "execution_count": 22,
   "metadata": {},
   "outputs": [],
   "source": [
    "import glob, os\n",
    "import json\n",
    "\n",
    "# conda install -c conda-forge sk-video \n",
    "import skvideo.io\n",
    "\n",
    "# pip install ffmpeg-python\n",
    "import ffmpeg"
   ]
  },
  {
   "cell_type": "code",
   "execution_count": 30,
   "metadata": {},
   "outputs": [
    {
     "name": "stdout",
     "output_type": "stream",
     "text": [
      "/media/Store/juan/Sync/Data sets/CGTB 2018 dev/CL 53 X CRA 60/1226-1259.avi\n",
      "dirname:  /media/Store/juan/Sync/Data sets/CGTB 2018 dev/CL 53 X CRA 60\n",
      "1226-1259.avi\n",
      "filename:  1226-1259\n",
      "{\n",
      "    \"@r_frame_rate\": \"30000/1001\",\n",
      "    \"@height\": \"1080\",\n",
      "    \"@width\": \"1920\",\n",
      "    \"@avg_frame_rate\": \"30000/1001\"\n",
      "}\n",
      "outputfile:  /media/Store/juan/Sync/Data sets/CGTB 2018 dev/CL 53 X CRA 60/1226-1259.mp4\n",
      "/media/Store/juan/Sync/Data sets/CGTB 2018 dev/CRA 7 X CL 45/955-959.avi\n",
      "dirname:  /media/Store/juan/Sync/Data sets/CGTB 2018 dev/CRA 7 X CL 45\n",
      "955-959.avi\n",
      "filename:  955-959\n",
      "{\n",
      "    \"@r_frame_rate\": \"30000/1001\",\n",
      "    \"@height\": \"1080\",\n",
      "    \"@width\": \"1920\",\n",
      "    \"@avg_frame_rate\": \"30000/1001\"\n",
      "}\n",
      "outputfile:  /media/Store/juan/Sync/Data sets/CGTB 2018 dev/CRA 7 X CL 45/955-959.mp4\n",
      "/media/Store/juan/Sync/Data sets/CGTB 2018 dev/CL 26 X CRA 33/600-610.avi\n",
      "dirname:  /media/Store/juan/Sync/Data sets/CGTB 2018 dev/CL 26 X CRA 33\n",
      "600-610.avi\n",
      "filename:  600-610\n",
      "{\n",
      "    \"@r_frame_rate\": \"30000/1001\",\n",
      "    \"@height\": \"1080\",\n",
      "    \"@width\": \"1920\",\n",
      "    \"@avg_frame_rate\": \"30000/1001\"\n",
      "}\n",
      "outputfile:  /media/Store/juan/Sync/Data sets/CGTB 2018 dev/CL 26 X CRA 33/600-610.mp4\n"
     ]
    }
   ],
   "source": [
    "directory = \"/media/Store/juan/Sync/Data sets/CGTB 2018 dev\"\n",
    "\n",
    "for file in glob.glob(directory+\"/**/*.avi\", recursive=True):\n",
    "    print(file)\n",
    "    dirname = os.path.dirname(file)\n",
    "    print(\"dirname: \", dirname)\n",
    "    basename = os.path.basename(file)\n",
    "    print(basename)\n",
    "    filename = os.path.splitext(basename)[0]\n",
    "    print(\"filename: \", filename)\n",
    "    \n",
    "    videogen = skvideo.io.vreader(file)\n",
    "    \n",
    "    metadata = skvideo.io.ffprobe(file)\n",
    "    \n",
    "    keys = {\"@width\", \"@height\", \"@r_frame_rate\", \"@avg_frame_rate\"}\n",
    "    \n",
    "    video_metadata = {k: metadata[\"video\"][k] for k in keys}\n",
    "    \n",
    "    print(json.dumps(video_metadata, indent=4))\n",
    "    \n",
    "    outputfile = os.path.join(dirname, filename+\".mp4\")\n",
    "    \n",
    "    print(\"outputfile: \", outputfile)\n",
    "    \n",
    "    \n",
    "    #writer = skvideo.io.FFmpegWriter(outputfile)\n",
    "    #\n",
    "    #for frame in videogen:\n",
    "    #    writer.writeFrame(frame)\n",
    "    #   \n",
    "    #writer.close()\n",
    "\n",
    "    try:\n",
    "        (ffmpeg\n",
    "            .input(file)\n",
    "            .output(outputfile)\n",
    "            .overwrite_output()\n",
    "            .run(capture_stdout=True, capture_stderr=True)\n",
    "        )\n",
    "    except ffmpeg.Error as e:\n",
    "        print(e.stderr, file=sys.stderr)\n",
    "        sys.exit(1)"
   ]
  },
  {
   "cell_type": "code",
   "execution_count": null,
   "metadata": {},
   "outputs": [],
   "source": []
  }
 ],
 "metadata": {
  "kernelspec": {
   "display_name": "Python 3",
   "language": "python",
   "name": "python3"
  },
  "language_info": {
   "codemirror_mode": {
    "name": "ipython",
    "version": 3
   },
   "file_extension": ".py",
   "mimetype": "text/x-python",
   "name": "python",
   "nbconvert_exporter": "python",
   "pygments_lexer": "ipython3",
   "version": "3.6.6"
  }
 },
 "nbformat": 4,
 "nbformat_minor": 2
}
